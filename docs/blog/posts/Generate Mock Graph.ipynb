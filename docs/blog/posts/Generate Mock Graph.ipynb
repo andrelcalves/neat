{
 "cells": [
  {
   "attachments": {},
   "cell_type": "markdown",
   "metadata": {},
   "source": [
    "# Generate Mock Graph\n",
    "\n",
    "\n",
    "* author: Nikola Vasiljevic\n",
    "* date: 2023-04-03\n",
    "\n",
    "\n",
    "In this notebook we will demonstrate how you can use NEAT to generate mock graph based on your data model.\n",
    "\n",
    "First we need to import all the necessary libraries:"
   ]
  },
  {
   "cell_type": "code",
   "execution_count": 2,
   "metadata": {},
   "outputs": [
    {
     "ename": "NameError",
     "evalue": "name 'Tuple' is not defined",
     "output_type": "error",
     "traceback": [
      "\u001b[0;31m---------------------------------------------------------------------------\u001b[0m",
      "\u001b[0;31mNameError\u001b[0m                                 Traceback (most recent call last)",
      "Cell \u001b[0;32mIn[2], line 4\u001b[0m\n\u001b[1;32m      2\u001b[0m \u001b[39mfrom\u001b[39;00m \u001b[39mcognite\u001b[39;00m\u001b[39m.\u001b[39;00m\u001b[39mneat\u001b[39;00m\u001b[39m.\u001b[39;00m\u001b[39mcore\u001b[39;00m \u001b[39mimport\u001b[39;00m loader, parser\n\u001b[1;32m      3\u001b[0m \u001b[39mfrom\u001b[39;00m \u001b[39mcognite\u001b[39;00m\u001b[39m.\u001b[39;00m\u001b[39mneat\u001b[39;00m\u001b[39m.\u001b[39;00m\u001b[39mcore\u001b[39;00m\u001b[39m.\u001b[39;00m\u001b[39mutils\u001b[39;00m \u001b[39mimport\u001b[39;00m remove_namespace\n\u001b[0;32m----> 4\u001b[0m \u001b[39mfrom\u001b[39;00m \u001b[39mcognite\u001b[39;00m\u001b[39m.\u001b[39;00m\u001b[39mneat\u001b[39;00m\u001b[39m.\u001b[39;00m\u001b[39mcore\u001b[39;00m\u001b[39m.\u001b[39;00m\u001b[39mmocks\u001b[39;00m\u001b[39m.\u001b[39;00m\u001b[39mgraph\u001b[39;00m \u001b[39mimport\u001b[39;00m generate_triples, add_triples\n\u001b[1;32m      5\u001b[0m \u001b[39mfrom\u001b[39;00m \u001b[39mcognite\u001b[39;00m\u001b[39m.\u001b[39;00m\u001b[39mneat\u001b[39;00m\u001b[39m.\u001b[39;00m\u001b[39mcore\u001b[39;00m\u001b[39m.\u001b[39;00m\u001b[39mdata_classes\u001b[39;00m\u001b[39m.\u001b[39;00m\u001b[39mdata_model_definitions\u001b[39;00m \u001b[39mimport\u001b[39;00m DataModelingDefinition\n\u001b[1;32m      7\u001b[0m get_ipython()\u001b[39m.\u001b[39mrun_line_magic(\u001b[39m'\u001b[39m\u001b[39mreload_ext\u001b[39m\u001b[39m'\u001b[39m, \u001b[39m'\u001b[39m\u001b[39mautoreload\u001b[39m\u001b[39m'\u001b[39m)\n",
      "File \u001b[0;32m/Volumes/Secondary/repos/get/neat/cognite/neat/core/mocks/graph.py:102\u001b[0m\n\u001b[1;32m     96\u001b[0m             _prettify_generation_order(value, depth, start\u001b[39m=\u001b[39mstart \u001b[39m+\u001b[39m \u001b[39m1\u001b[39m)\n\u001b[1;32m     97\u001b[0m     \u001b[39mreturn\u001b[39;00m Ordereddict(\u001b[39msorted\u001b[39m(depth\u001b[39m.\u001b[39mitems(), key\u001b[39m=\u001b[39m\u001b[39mlambda\u001b[39;00m item: item[\u001b[39m1\u001b[39m]))\n\u001b[1;32m    100\u001b[0m \u001b[39mdef\u001b[39;00m \u001b[39m_generate_mock_data_property_triples\u001b[39m(\n\u001b[1;32m    101\u001b[0m     instance_ids: \u001b[39mlist\u001b[39m[URIRef], property_: \u001b[39mstr\u001b[39m, namespace: Namespace\n\u001b[0;32m--> 102\u001b[0m ) \u001b[39m-\u001b[39m\u001b[39m>\u001b[39m \u001b[39mlist\u001b[39m[Tuple[URIRef, URIRef, Literal]]:\n\u001b[1;32m    103\u001b[0m \u001b[39m    \u001b[39m\u001b[39m\"\"\"Generates triples for data properties.\"\"\"\u001b[39;00m\n\u001b[1;32m    104\u001b[0m     \u001b[39m# TODO: we should handle datatype, currently we are assuming everything is string\u001b[39;00m\n",
      "\u001b[0;31mNameError\u001b[0m: name 'Tuple' is not defined"
     ]
    }
   ],
   "source": [
    "from pathlib import Path\n",
    "from cognite.neat.core import loader, parser\n",
    "from cognite.neat.core.utils import remove_namespace\n",
    "from cognite.neat.core.mocks.graph import generate_triples, add_triples\n",
    "from cognite.neat.core.data_classes.data_model_definitions import DataModelingDefinition\n",
    "\n",
    "%reload_ext autoreload\n",
    "%autoreload 2\n"
   ]
  },
  {
   "attachments": {},
   "cell_type": "markdown",
   "metadata": {},
   "source": [
    "Since we already have an example data model, we will use it to generate mock graph.\n",
    "\n",
    "Here we setting path to the transformation rules which contain data model definition and parsing data model in corresponding form:"
   ]
  },
  {
   "cell_type": "code",
   "execution_count": null,
   "metadata": {},
   "outputs": [],
   "source": [
    "ROOT = Path().resolve().parent.parent.parent\n",
    "TRANSFORMATION_RULES = ROOT / \"cognite\" / \"neat\" / \"examples\" / \"rules\" / \"Rules-Nordic44-to-TNT.xlsx\""
   ]
  },
  {
   "cell_type": "code",
   "execution_count": 3,
   "metadata": {},
   "outputs": [],
   "source": [
    "raw_sheets = loader.rules.excel_file_to_table_by_name(TRANSFORMATION_RULES)\n",
    "transformation_rules = parser.parse_transformation_rules(raw_sheets)\n",
    "data_model = parser.parse_data_model(raw_sheets)"
   ]
  },
  {
   "attachments": {},
   "cell_type": "markdown",
   "metadata": {},
   "source": [
    "Let's now take a look and see how many defined classes we have:"
   ]
  },
  {
   "cell_type": "code",
   "execution_count": 4,
   "metadata": {},
   "outputs": [
    {
     "data": {
      "text/plain": [
       "{'GeographicalRegion',\n",
       " 'Orphanage',\n",
       " 'RootCIMNode',\n",
       " 'SubGeographicalRegion',\n",
       " 'Substation',\n",
       " 'Terminal'}"
      ]
     },
     "execution_count": 4,
     "metadata": {},
     "output_type": "execute_result"
    }
   ],
   "source": [
    "data_model.get_defined_classes()"
   ]
  },
  {
   "attachments": {},
   "cell_type": "markdown",
   "metadata": {},
   "source": [
    "Let's now configure desired number of instances per each of the above classes except for Orphanage as it is a special class that NEATs expects in specific form, which if not satisfied it would be automatically created by NEAT. We will store desired number of instances in a dictionary which we will call `class_count`:"
   ]
  },
  {
   "cell_type": "code",
   "execution_count": 29,
   "metadata": {},
   "outputs": [],
   "source": [
    "class_count = {\"RootCIMNode\":1, \n",
    "               \"GeographicalRegion\":5, \n",
    "               \"SubGeographicalRegion\":10, \n",
    "               \"Substation\": 20, \n",
    "               \"Terminal\": 60}"
   ]
  },
  {
   "attachments": {},
   "cell_type": "markdown",
   "metadata": {},
   "source": [
    "To generate mock graph we will first create an empty graph to which we will triples that will represent our mock graph:"
   ]
  },
  {
   "cell_type": "code",
   "execution_count": 30,
   "metadata": {},
   "outputs": [],
   "source": [
    "graph_store = loader.NeatGraphStore(prefixes=transformation_rules.prefixes, namespace=transformation_rules.metadata.namespace)\n",
    "graph_store.init_graph(base_prefix=transformation_rules.metadata.prefix)"
   ]
  },
  {
   "attachments": {},
   "cell_type": "markdown",
   "metadata": {},
   "source": [
    "First we will create triples and then will added them to the graph. We will start with creating triples for the classes:"
   ]
  },
  {
   "cell_type": "code",
   "execution_count": 31,
   "metadata": {},
   "outputs": [],
   "source": [
    "mock_triples = generate_triples(data_model, class_count)\n",
    "add_triples(graph_store, mock_triples)"
   ]
  },
  {
   "attachments": {},
   "cell_type": "markdown",
   "metadata": {},
   "source": [
    "After successfully creating and adding mock triples let's now take a look at the graph and see if we have expected number of class instances.\n",
    "\n",
    "Here we are executing SPARQL query to count all the class instances:\n",
    "```\n",
    "SELECT ?class (count(?s) as ?instances ) WHERE { ?s a ?class . } group by ?class order by DESC(?instances)\n",
    "```\n",
    "\n",
    "and later on when processing results we are purposely removing namespaces from the class names:"
   ]
  },
  {
   "cell_type": "code",
   "execution_count": 32,
   "metadata": {},
   "outputs": [
    {
     "name": "stdout",
     "output_type": "stream",
     "text": [
      "Terminal                  60\n",
      "Substation                20\n",
      "SubGeographicalRegion     10\n",
      "GeographicalRegion        5\n",
      "RootCIMNode               1\n"
     ]
    }
   ],
   "source": [
    "for res in list(graph_store.graph.query(\"SELECT ?class (count(?s) as ?instances ) WHERE { ?s a ?class . } group by ?class order by DESC(?instances)\")):\n",
    "    print(f\"{remove_namespace(res[0]):25} {res[1]}\" )"
   ]
  },
  {
   "attachments": {},
   "cell_type": "markdown",
   "metadata": {},
   "source": [
    "Let's now parse this graph into assets and relationships and see if we have expected number of instances per each class.\n",
    "Do not be alarmed with warnings and errors that NEAT is throwing due to missing Orphanage, it will automatically create it for us:"
   ]
  },
  {
   "cell_type": "code",
   "execution_count": 34,
   "metadata": {},
   "outputs": [
    {
     "name": "stderr",
     "output_type": "stream",
     "text": [
      "ERROR:root:Error while loading instances of class <http://purl.org/cognite/tnt#Orphanage> into cache. Reason: 'instance'\n",
      "WARNING:root:Orphanage with external id orphanage not found in asset hierarchy!\n",
      "WARNING:root:Adding default orphanage with external id orphanage\n"
     ]
    },
    {
     "name": "stdout",
     "output_type": "stream",
     "text": [
      "Orphanage with external id orphanage not found in asset hierarchy!\n"
     ]
    }
   ],
   "source": [
    "assets = parser.rdf2asset_dictionary(graph_store, transformation_rules)"
   ]
  },
  {
   "cell_type": "code",
   "execution_count": 38,
   "metadata": {},
   "outputs": [
    {
     "data": {
      "text/plain": [
       "{'RootCIMNode': 1,\n",
       " 'GeographicalRegion': 5,\n",
       " 'SubGeographicalRegion': 10,\n",
       " 'Substation': 20,\n",
       " 'Terminal': 60,\n",
       " 'Orphanage': 1}"
      ]
     },
     "execution_count": 38,
     "metadata": {},
     "output_type": "execute_result"
    }
   ],
   "source": [
    "count_assets = {}\n",
    "for asset in assets.values():\n",
    "    if asset[\"metadata\"][\"type\"] not in count_assets:\n",
    "        count_assets[asset[\"metadata\"][\"type\"]] = 1\n",
    "    else:\n",
    "        count_assets[asset[\"metadata\"][\"type\"]] += 1\n",
    "        \n",
    "count_assets"
   ]
  },
  {
   "attachments": {},
   "cell_type": "markdown",
   "metadata": {},
   "source": [
    "Let's now create relationships and check if we have expected number of relationships, which is:\n",
    "- 60 relationships where source is Terminal and target is Substation\n",
    "- 60 relationships where source is Substation and target is Terminal"
   ]
  },
  {
   "cell_type": "code",
   "execution_count": 39,
   "metadata": {},
   "outputs": [],
   "source": [
    "relationships = parser.rdf_to_relationships.rdf2relationship_data_frame(graph_store, transformation_rules)"
   ]
  },
  {
   "cell_type": "code",
   "execution_count": 48,
   "metadata": {},
   "outputs": [
    {
     "name": "stdout",
     "output_type": "stream",
     "text": [
      "Substation-Terminal relations: 60\n",
      "Terminal-Substation relations: 60\n"
     ]
    }
   ],
   "source": [
    "no_sub_ter_rela = len(relationships[(relationships.source_external_id.str.match('Substation.*')) & \n",
    "                                    (relationships.target_external_id.str.match('Terminal.*'))])\n",
    "no_ter_sub_rela = len(relationships[(relationships.source_external_id.str.match('Terminal.*')) & \n",
    "                                    (relationships.target_external_id.str.match('Substation.*'))])\n",
    "\n",
    "print(f\"Substation-Terminal relations: {no_sub_ter_rela}\")\n",
    "print(f\"Terminal-Substation relations: {no_ter_sub_rela}\")"
   ]
  }
 ],
 "metadata": {
  "kernelspec": {
   "display_name": "neat-V5HCRAva-py3.11",
   "language": "python",
   "name": "python3"
  },
  "language_info": {
   "codemirror_mode": {
    "name": "ipython",
    "version": 3
   },
   "file_extension": ".py",
   "mimetype": "text/x-python",
   "name": "python",
   "nbconvert_exporter": "python",
   "pygments_lexer": "ipython3",
   "version": "3.11.0"
  },
  "orig_nbformat": 4,
  "vscode": {
   "interpreter": {
    "hash": "eb4cf576dcffa0a787a8982645e03a998957c06d661d178298ccc8dde5bf89f7"
   }
  }
 },
 "nbformat": 4,
 "nbformat_minor": 2
}
